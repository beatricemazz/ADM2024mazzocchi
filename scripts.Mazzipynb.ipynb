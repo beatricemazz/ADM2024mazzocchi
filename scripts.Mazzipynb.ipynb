{
 "cells": [
  {
   "cell_type": "markdown",
   "id": "6f82c6f5",
   "metadata": {},
   "source": [
    "# PROBLEM 1"
   ]
  },
  {
   "cell_type": "markdown",
   "id": "77d2b267",
   "metadata": {},
   "source": [
    "## INTRODUCTION\n"
   ]
  },
  {
   "cell_type": "markdown",
   "id": "7114537c",
   "metadata": {},
   "source": [
    "- Say \"Hello, World!\" With Python"
   ]
  },
  {
   "cell_type": "code",
   "execution_count": null,
   "id": "822593c2",
   "metadata": {},
   "outputs": [],
   "source": [
    "if __name__ == '__main__':\n",
    "    \n",
    "    print(\"Hello, World!\")\n"
   ]
  },
  {
   "cell_type": "markdown",
   "id": "5f49b147",
   "metadata": {},
   "source": [
    "- Python If-Else"
   ]
  },
  {
   "cell_type": "code",
   "execution_count": null,
   "id": "15384bab",
   "metadata": {},
   "outputs": [],
   "source": [
    "#!/bin/python3\n",
    "import math\n",
    "import os\n",
    "import random\n",
    "import re\n",
    "import sys\n",
    "\n",
    "\n",
    "if __name__ == '__main__':\n",
    "    n = int(input())\n",
    "    if 1 <= n <= 100:  \n",
    "        if n % 2 == 0:  \n",
    "            if 2 <= n <= 5:\n",
    "                print('Not Weird')\n",
    "            elif n in range(6, 21):\n",
    "                print('Weird')\n",
    "            elif n > 20:\n",
    "                print('Not Weird')\n",
    "        else: \n",
    "            print('Weird')\n",
    "\n"
   ]
  },
  {
   "cell_type": "markdown",
   "id": "e2257053",
   "metadata": {},
   "source": [
    "- Print Function"
   ]
  },
  {
   "cell_type": "code",
   "execution_count": null,
   "id": "33b5eb2d",
   "metadata": {},
   "outputs": [],
   "source": [
    "if __name__ == '__main__':\n",
    "  n = int(input())\n",
    "  if n in range(1,151):\n",
    "      for i in range(1,n+1):\n",
    "         print(i,end='') \n"
   ]
  },
  {
   "cell_type": "markdown",
   "id": "6ae85b95",
   "metadata": {},
   "source": [
    "- Loops"
   ]
  },
  {
   "cell_type": "code",
   "execution_count": null,
   "id": "5e4dc14a",
   "metadata": {},
   "outputs": [],
   "source": [
    "if __name__ == '__main__':\n",
    "    n = int(input())\n",
    "    for i in range(n):\n",
    "        if 1 <= n <= 20:\n",
    "           print(i*i)\n"
   ]
  },
  {
   "cell_type": "markdown",
   "id": "e60dc787",
   "metadata": {},
   "source": [
    "- Write a function"
   ]
  },
  {
   "cell_type": "code",
   "execution_count": null,
   "id": "f1bbea52",
   "metadata": {},
   "outputs": [],
   "source": [
    "def is_leap(year):\n",
    "    leap = False\n",
    "    if year % 4 == 0:\n",
    "        if not year % 100 == 0 or year % 400 == 0:\n",
    "           leap = True\n",
    "    \n",
    "    return leap\n"
   ]
  },
  {
   "cell_type": "markdown",
   "id": "edeb778b",
   "metadata": {},
   "source": [
    "- Python: Division"
   ]
  },
  {
   "cell_type": "code",
   "execution_count": null,
   "id": "81a99049",
   "metadata": {},
   "outputs": [],
   "source": [
    "if __name__ == '__main__':\n",
    "    a = int(input())\n",
    "    b = int(input())\n",
    "    print(f\"{a//b}\\n{a/b}\")\n"
   ]
  },
  {
   "cell_type": "markdown",
   "id": "94940ba2",
   "metadata": {},
   "source": [
    "- Arithmetic Operators"
   ]
  },
  {
   "cell_type": "code",
   "execution_count": null,
   "id": "b3aca91b",
   "metadata": {},
   "outputs": [],
   "source": [
    "if __name__ == '__main__':\n",
    "    a = int(input())\n",
    "    b = int(input())\n",
    "    print(f\"{a+b}\\n{a-b}\\n{a*b}\")\n"
   ]
  },
  {
   "cell_type": "markdown",
   "id": "36cc8f73",
   "metadata": {},
   "source": [
    "## BASIC DATA TYPES"
   ]
  },
  {
   "cell_type": "markdown",
   "id": "fdf329b1",
   "metadata": {},
   "source": [
    "- Tuples"
   ]
  },
  {
   "cell_type": "code",
   "execution_count": null,
   "id": "e6a4f1e5",
   "metadata": {},
   "outputs": [],
   "source": [
    "if __name__ == '__main__':\n",
    "   n = int(input())\n",
    "   integer_list = (map(int, input().split()))  \n",
    "   print(hash(tuple(integer_list)))  \n"
   ]
  },
  {
   "cell_type": "markdown",
   "id": "f1e965c8",
   "metadata": {},
   "source": [
    "- Finding the percentage"
   ]
  },
  {
   "cell_type": "code",
   "execution_count": null,
   "id": "8f5ed9ed",
   "metadata": {},
   "outputs": [],
   "source": [
    "if __name__ == '__main__':\n",
    "    \n",
    "    n = int(input())\n",
    "    student_marks = {}\n",
    "    for _ in range(n):\n",
    "        name, *line = input().split()\n",
    "        scores = list(map(float, line))\n",
    "        student_marks[name] = scores\n",
    "    query_name = input()\n",
    "if query_name in student_marks:\n",
    "   print(f\"{sum(student_marks[query_name])/len(student_marks[query_name]):.2f}\")\n",
    "\n"
   ]
  },
  {
   "cell_type": "markdown",
   "id": "705fd694",
   "metadata": {},
   "source": [
    "- Lists"
   ]
  },
  {
   "cell_type": "code",
   "execution_count": null,
   "id": "d4a7a22a",
   "metadata": {},
   "outputs": [],
   "source": [
    "if __name__ == '__main__':\n",
    "    N = int(input())\n",
    "    mylist=[];\n",
    "    for i in range(0,N):\n",
    "        com=input().split();\n",
    "        if com[0] == \"insert\":\n",
    "            mylist.insert(int(com[1]),int(com[2]))\n",
    "        elif com[0] == \"append\":\n",
    "            mylist.append(int(com[1]))\n",
    "        elif com[0] == \"pop\":\n",
    "            mylist.pop();\n",
    "        elif com[0] == \"print\":\n",
    "            print(mylist)\n",
    "        elif com[0] == \"remove\":\n",
    "            mylist.remove(int(com[1]))\n",
    "        elif com[0] == \"sort\":\n",
    "            mylist.sort();\n",
    "        else:\n",
    "            mylist.reverse();\n"
   ]
  },
  {
   "cell_type": "markdown",
   "id": "03e7bcfe",
   "metadata": {},
   "source": [
    "- Nested Lists"
   ]
  },
  {
   "cell_type": "code",
   "execution_count": null,
   "id": "e8168bca",
   "metadata": {},
   "outputs": [],
   "source": [
    "if __name__ == '__main__':\n",
    "    lista = {}\n",
    "    n = int(input())  \n",
    "    if 2 <= n <= 5:\n",
    "       for i in range(n):\n",
    "           name = input()\n",
    "           score = float(input())\n",
    "           lista[name]= score \n",
    "           \n",
    "       minimo = min(lista.values())\n",
    "       nomi= {name: score for name,score in lista.items() if score != minimo}\n",
    "       minimo2= min(nomi.values())\n",
    "       nomi2= [name for name,score in lista.items() if score == minimo2]\n",
    "       for name in sorted(nomi2):\n",
    "           print((name))\n"
   ]
  },
  {
   "cell_type": "markdown",
   "id": "2b84fe4e",
   "metadata": {},
   "source": [
    "- Find the Runner-Up Score!"
   ]
  },
  {
   "cell_type": "code",
   "execution_count": null,
   "id": "cb4b3a4c",
   "metadata": {},
   "outputs": [],
   "source": [
    "if __name__ == '__main__':\n",
    "    n = int(input())\n",
    "    if 2 <= n <= 10:\n",
    "        arr = list(map(int, input().split()))\n",
    "        filtro = [e for e in arr if -100 <= e <= 100]\n",
    "        maxi= max(filtro)\n",
    "        if filtro:\n",
    "           filtro2= [n for n in filtro if n != maxi]\n",
    "           max2= max(filtro2)\n",
    "        print(max2)\n"
   ]
  },
  {
   "cell_type": "markdown",
   "id": "2a809a5e",
   "metadata": {},
   "source": [
    "- List Comprehensions"
   ]
  },
  {
   "cell_type": "code",
   "execution_count": null,
   "id": "70f1fce3",
   "metadata": {},
   "outputs": [],
   "source": [
    "if __name__ == '__main__':\n",
    "    x = int(input())\n",
    "    y = int(input())\n",
    "    z = int(input())\n",
    "    n = int(input())\n",
    "from itertools import product\n",
    "coordinates = [[i,j,k] for i,j,k in product (range(x+1),range(y+1), range(z+1)) if (i + j+ k) != n]\n",
    "print(coordinates)\n"
   ]
  },
  {
   "cell_type": "markdown",
   "id": "cd4ccf4d",
   "metadata": {},
   "source": [
    "## STRINGS"
   ]
  },
  {
   "cell_type": "markdown",
   "id": "a11587ee",
   "metadata": {},
   "source": [
    "- What's your name"
   ]
  },
  {
   "cell_type": "code",
   "execution_count": null,
   "id": "c35cff03",
   "metadata": {},
   "outputs": [],
   "source": [
    "\n",
    "def print_full_name(first, last):\n",
    "   print('Hello '+ first   + ' '  + last + '! '+ 'You just delved into python.')"
   ]
  },
  {
   "cell_type": "markdown",
   "id": "a039e9bf",
   "metadata": {},
   "source": [
    "- String Split and Join"
   ]
  },
  {
   "cell_type": "code",
   "execution_count": null,
   "id": "1645bb8d",
   "metadata": {},
   "outputs": [],
   "source": [
    "def split_and_join(line):\n",
    "    \n",
    "    a= line.split(\" \")\n",
    "    a= \"-\".join(a)\n",
    "    return a"
   ]
  },
  {
   "cell_type": "markdown",
   "id": "553ba0d2",
   "metadata": {},
   "source": [
    "- The Minion Game"
   ]
  },
  {
   "cell_type": "code",
   "execution_count": 3,
   "id": "58985d52",
   "metadata": {},
   "outputs": [],
   "source": [
    "def minion_game(string):\n",
    "    kevin = 0\n",
    "    stuart = 0\n",
    "    vowels = 'A','E','I','O','U'\n",
    "    \n",
    "    n= len(s)\n",
    "    for sub in range(n):\n",
    "        if string[sub] in vowels:\n",
    "            kevin += n-sub\n",
    "        else:\n",
    "            stuart += n-sub\n",
    "    if kevin > stuart:\n",
    "        print(f\"Kevin {kevin}\")\n",
    "    elif stuart > kevin:\n",
    "        print(f\"Stuart {stuart}\")\n",
    "    else:\n",
    "        print(\"Draw\")\n",
    "if __name__ == '__main__':\n",
    "    s = input()\n",
    "    minion_game(s)\n",
    "\n",
    "\n"
   ]
  },
  {
   "cell_type": "markdown",
   "id": "7040478d",
   "metadata": {},
   "source": [
    "- Merge the Tools!"
   ]
  },
  {
   "cell_type": "code",
   "execution_count": 4,
   "id": "35c9082e",
   "metadata": {},
   "outputs": [],
   "source": [
    "def merge_the_tools(string, k):\n",
    "    for i in range(0, len(string), k):\n",
    "        pair = string[i:i+k] \n",
    "        mark = list(set(pair))  \n",
    "        print(''.join(mark))\n",
    "\n",
    "        \n"
   ]
  },
  {
   "cell_type": "markdown",
   "id": "03a093e6",
   "metadata": {},
   "source": [
    "- Alphabet Rangoli"
   ]
  },
  {
   "cell_type": "code",
   "execution_count": 5,
   "id": "d5328c8c",
   "metadata": {},
   "outputs": [],
   "source": [
    "def print_rangoli(size):\n",
    "    alfabeto = 'abcdefghijklmnopqrstuvwxyz'\n",
    "    righe = []\n",
    "    for i in range(size):\n",
    "        lettere = alfabeto[size-1:size-i-1:-1] + alfabeto[size-i-1:size]\n",
    "        righe.append(\"-\".join(lettere))\n",
    "    for i in range(size):\n",
    "        ri = \"-\" * (size-i-1)*2\n",
    "        righeform = ri + righe[i] + ri\n",
    "        print(righeform)\n",
    "    for i in range(size-2, -1, -1):\n",
    "        ri = \"-\" * (size-i-1)*2\n",
    "        righeform = ri + righe[i] + ri\n",
    "        print(righeform)\n",
    "\n",
    "\n"
   ]
  },
  {
   "cell_type": "markdown",
   "id": "65881f30",
   "metadata": {},
   "source": [
    "- Capitalize!"
   ]
  },
  {
   "cell_type": "code",
   "execution_count": 6,
   "id": "32302415",
   "metadata": {},
   "outputs": [],
   "source": [
    "\n",
    "    \n",
    "def solve(s):\n",
    "    s = s.split(' ')\n",
    "    for i in range(len(s)):\n",
    "        s[i] = s[i].capitalize()\n",
    "    return ' '.join(s)\n",
    "    \n",
    "\n"
   ]
  },
  {
   "cell_type": "markdown",
   "id": "af4cdbed",
   "metadata": {},
   "source": [
    "- String Formatting"
   ]
  },
  {
   "cell_type": "code",
   "execution_count": 7,
   "id": "e4a1356c",
   "metadata": {},
   "outputs": [],
   "source": [
    "def print_formatted(number):\n",
    "    width = len(bin(number)[2:])\n",
    "    for i in range(1, number + 1):\n",
    "        dec = i\n",
    "        octal = oct(i)[2:]\n",
    "        hexd = hex(i)[2:].upper()\n",
    "        binary = bin(i)[2:]\n",
    "        \n",
    "       \n",
    "        print(f\"{dec:>{width}} {octal:>{width}} {hexd:>{width}} {binary:>{width}}\")\n",
    "\n"
   ]
  },
  {
   "cell_type": "markdown",
   "id": "040b3c40",
   "metadata": {},
   "source": [
    "- Find a string"
   ]
  },
  {
   "cell_type": "code",
   "execution_count": null,
   "id": "9a76a0ec",
   "metadata": {},
   "outputs": [],
   "source": [
    "def count_substring(string, sub_string):\n",
    "    count= 0\n",
    "    for i in range(len(string)):\n",
    "        if string[i:i+len(sub_string)] == sub_string:\n",
    "           count += 1\n",
    "    return count \n",
    "\n"
   ]
  },
  {
   "cell_type": "markdown",
   "id": "9d50cf4c",
   "metadata": {},
   "source": [
    "- Text Wrap"
   ]
  },
  {
   "cell_type": "code",
   "execution_count": 1,
   "id": "a63836c5",
   "metadata": {},
   "outputs": [],
   "source": [
    "import textwrap\n",
    "def wrap(string, max_width):\n",
    "    result= textwrap.wrap(string, width= max_width)\n",
    "    return \"\\n\".join(result)\n"
   ]
  },
  {
   "cell_type": "markdown",
   "id": "eb414d68",
   "metadata": {},
   "source": [
    "- String Validators"
   ]
  },
  {
   "cell_type": "code",
   "execution_count": null,
   "id": "ba88be77",
   "metadata": {},
   "outputs": [],
   "source": [
    "if __name__ == '__main__':\n",
    "    s = input()\n",
    "print(f\"{any(char.isalnum() for char in s)}\")\n",
    "print(f\"{any(char.isalpha() for char in s)}\")\n",
    "print(f\"{any(char.isdigit() for char in s)}\")\n",
    "print(f\"{any(char.islower() for char in s)}\")\n",
    "print(f\"{any(char.isupper() for char in s)}\")\n"
   ]
  },
  {
   "cell_type": "markdown",
   "id": "971a2641",
   "metadata": {},
   "source": [
    "- Text Alignment"
   ]
  },
  {
   "cell_type": "code",
   "execution_count": null,
   "id": "d00a0e31",
   "metadata": {},
   "outputs": [],
   "source": [
    "thickness = int(input())\n",
    "c = 'H'\n",
    "\n",
    "for i in range(thickness):\n",
    "    print((c*i).rjust(thickness-1)+c+(c*i).ljust(thickness-1))\n",
    "\n",
    "for i in range(thickness+1):\n",
    "    print((c*thickness).center(thickness*2)+(c*thickness).center(thickness*6))\n",
    "\n",
    "for i in range((thickness+1)//2):\n",
    "    print((c*thickness*5).center(thickness*6))\n",
    "\n",
    "for i in range(thickness+1):\n",
    "    print((c*thickness).center(thickness*2)+(c*thickness).center(thickness*6))\n",
    "for i in range(thickness):\n",
    "    print(((c*(thickness-i-1)).rjust(thickness)+c+(c*(thickness-i-1)).ljust(thickness)).rjust(thickness*6))"
   ]
  },
  {
   "cell_type": "markdown",
   "id": "448e3aa8",
   "metadata": {},
   "source": [
    "- Designer Door Mat"
   ]
  },
  {
   "cell_type": "code",
   "execution_count": null,
   "id": "7b4c5943",
   "metadata": {},
   "outputs": [],
   "source": [
    "\n",
    "N, M = map(int, input().split())\n",
    "tar = \".|.\"\n",
    "for i in range(1, N, 2):\n",
    "    righe = (M - (i * 3))//2\n",
    "    print('-' * righe + tar * i + '-' * righe)\n",
    "print('WELCOME'.center(M, '-'))\n",
    "for i in range(N-2, 0, -2):\n",
    "    righe = (M - (i * 3))//2\n",
    "    print('-' * righe + tar * i + '-' * righe)"
   ]
  },
  {
   "cell_type": "markdown",
   "id": "021661ed",
   "metadata": {},
   "source": [
    "## SETS"
   ]
  },
  {
   "cell_type": "markdown",
   "id": "c00924ae",
   "metadata": {},
   "source": [
    "- Symmetric Difference"
   ]
  },
  {
   "cell_type": "code",
   "execution_count": null,
   "id": "7ad3fe57",
   "metadata": {},
   "outputs": [],
   "source": [
    "\n",
    "M = int(input())\n",
    "myset = set(map(int, input().split()))\n",
    "N = int(input())\n",
    "myset2 = set(map(int, input().split()))\n",
    "symmetric = myset ^ myset2\n",
    "for i in sorted(symmetric):\n",
    "    print(i)\n"
   ]
  },
  {
   "cell_type": "markdown",
   "id": "4e91fbc6",
   "metadata": {},
   "source": [
    "- No Idea!"
   ]
  },
  {
   "cell_type": "code",
   "execution_count": null,
   "id": "bb4d3403",
   "metadata": {},
   "outputs": [],
   "source": [
    "\n",
    "s = list(map(int, input().split())) \n",
    "N = s[0] \n",
    "set1 = list(map(int, input().split()[:N]))  \n",
    "M = s[1]\n",
    "setA= set(map(int,input().split()[:M]))\n",
    "setB= set(map(int,input().split()[:M]))\n",
    "count = 0\n",
    "for e in set1:\n",
    "  if e in setA:\n",
    "     count += 1\n",
    "  if e in setB:\n",
    "     count -= 1\n",
    "print(count)\n"
   ]
  },
  {
   "cell_type": "markdown",
   "id": "f7fae91e",
   "metadata": {},
   "source": [
    "- Set .symmetric_difference() Operation"
   ]
  },
  {
   "cell_type": "code",
   "execution_count": null,
   "id": "5f600e8c",
   "metadata": {},
   "outputs": [],
   "source": [
    "intero= int(input())\n",
    "mappa= set(list(map(int,input().split())))\n",
    "intero2= int(input())\n",
    "mappa2= set(list(map(int,input().split())))\n",
    "print(len(mappa.symmetric_difference(mappa2)))\n"
   ]
  },
  {
   "cell_type": "markdown",
   "id": "1b7c6009",
   "metadata": {},
   "source": [
    "- Set .intersection() Operation"
   ]
  },
  {
   "cell_type": "code",
   "execution_count": null,
   "id": "afd506a6",
   "metadata": {},
   "outputs": [],
   "source": [
    "intero= int(input())\n",
    "mappa= set(list(map(int,input().split())))\n",
    "intero2= int(input())\n",
    "mappa2= set(list(map(int,input().split())))\n",
    "print(len(mappa.intersection(mappa2)))\n"
   ]
  },
  {
   "cell_type": "markdown",
   "id": "66243104",
   "metadata": {},
   "source": [
    "- The Captain's Room"
   ]
  },
  {
   "cell_type": "code",
   "execution_count": null,
   "id": "e2b1f469",
   "metadata": {},
   "outputs": [],
   "source": [
    "\n",
    "\n",
    "K = int(input())\n",
    "s = list(map(int, input().split()))\n",
    " \n",
    "dizionario= {}\n",
    "for i in s:\n",
    "    if i in dizionario:\n",
    "       dizionario[i] += 1\n",
    "    else:\n",
    "        dizionario[i]= 1\n",
    "unique = [key for key, value in dizionario.items() if value == 1]\n",
    "print(\"\".join(map(str,unique)))\n"
   ]
  },
  {
   "cell_type": "markdown",
   "id": "bb70ff7e",
   "metadata": {},
   "source": [
    "- Check Subset"
   ]
  },
  {
   "cell_type": "code",
   "execution_count": null,
   "id": "447cf0a0",
   "metadata": {},
   "outputs": [],
   "source": [
    "K = int(input())\n",
    "\n",
    "for _ in range(K):\n",
    "    K1 = int(input())  \n",
    "    set1 = set(map(int, input().split()))\n",
    "    K2 = int(input()) \n",
    "    set2 = set(map(int, input().split()))\n",
    "    if all(element in set2 for element in set1):\n",
    "        print(True)\n",
    "    else:\n",
    "        print(False)\n"
   ]
  },
  {
   "cell_type": "markdown",
   "id": "ea8d9331",
   "metadata": {},
   "source": [
    "- Check Strict Superset"
   ]
  },
  {
   "cell_type": "code",
   "execution_count": null,
   "id": "18aa7cd9",
   "metadata": {},
   "outputs": [],
   "source": [
    "setA= list(map(int, input().split()))\n",
    "N= int(input())\n",
    "result= True\n",
    "for i in range(N):\n",
    "    myset= set(map(int,input().split()))\n",
    "    if not all(elements in setA for elements in myset):\n",
    "        result= False\n",
    "print(result)\n",
    "    \n"
   ]
  },
  {
   "cell_type": "markdown",
   "id": "db93da8e",
   "metadata": {},
   "source": [
    "- Set Mutations"
   ]
  },
  {
   "cell_type": "code",
   "execution_count": null,
   "id": "ef79ace9",
   "metadata": {},
   "outputs": [],
   "source": [
    "nA = int(input())\n",
    "A = set(map(int, input().split()))\n",
    "N = int(input())\n",
    "for _ in range(N):\n",
    "    command, *args = input().split()\n",
    "    otherset = set(map(int, input().split()))\n",
    "    if command == \"intersection_update\":\n",
    "        A.intersection_update(otherset)\n",
    "    elif command == \"update\":\n",
    "        A.update(otherset)\n",
    "    elif command == \"symmetric_difference_update\":\n",
    "        A.symmetric_difference_update(otherset)\n",
    "    elif command == \"difference_update\":\n",
    "        A.difference_update(otherset)\n",
    "print(sum(A))\n"
   ]
  },
  {
   "cell_type": "markdown",
   "id": "45232bb4",
   "metadata": {},
   "source": [
    "- Set .discard(), .remove() & .pop()"
   ]
  },
  {
   "cell_type": "code",
   "execution_count": null,
   "id": "9e70988c",
   "metadata": {},
   "outputs": [],
   "source": [
    "N = int(input())\n",
    "s = set(map(int, input().split()))\n",
    "num_commands = int(input())\n",
    "for _ in range(num_commands):\n",
    "    command, *line = input().split()\n",
    "    \n",
    "    if command == \"pop\":\n",
    "        if s:\n",
    "            s.pop()\n",
    "    elif command == \"discard\":\n",
    "        s.discard(int(line[0]))\n",
    "    elif command == \"remove\":\n",
    "        try:\n",
    "            s.remove(int(line[0]))\n",
    "        except KeyError:\n",
    "            pass\n",
    "print(sum(s))\n"
   ]
  },
  {
   "cell_type": "markdown",
   "id": "95c28794",
   "metadata": {},
   "source": [
    "## COLLECTIONS"
   ]
  },
  {
   "cell_type": "markdown",
   "id": "499ff39b",
   "metadata": {},
   "source": [
    "- Company Logo"
   ]
  },
  {
   "cell_type": "code",
   "execution_count": null,
   "id": "1321ef83",
   "metadata": {},
   "outputs": [],
   "source": [
    "\n",
    "    \n",
    "    \n",
    "from collections import Counter\n",
    "if __name__ == '__main__':\n",
    "    s = sorted(input())\n",
    "    c = Counter(s)\n",
    "    most_common = c.most_common(3) \n",
    "    for char, count in most_common:\n",
    "        print(f\"{char} {count}\")\n",
    "\n"
   ]
  },
  {
   "cell_type": "markdown",
   "id": "a8320b61",
   "metadata": {},
   "source": [
    "- Collections.namedtuple()"
   ]
  },
  {
   "cell_type": "code",
   "execution_count": null,
   "id": "752eebfa",
   "metadata": {},
   "outputs": [],
   "source": [
    "\n",
    "from collections import namedtuple\n",
    "total_marks=0\n",
    "N=int(input())\n",
    "Student=namedtuple('Student', input().split())\n",
    "for x in range(N):\n",
    "    s=Student(*input().split())\n",
    "    total_marks+=int(s.MARKS)\n",
    "average_marks = total_marks / N\n",
    "print( average_marks)\n",
    "\n"
   ]
  },
  {
   "cell_type": "markdown",
   "id": "0e15016e",
   "metadata": {},
   "source": [
    "- DefaultDict Tutorial"
   ]
  },
  {
   "cell_type": "markdown",
   "id": "9ec7f152",
   "metadata": {},
   "source": [
    "A defaultdict named positions is created, where each key will be a string from group_a, and the value will be a list of indices (1-based) where that string appears.\n",
    "1. The first loop iterates over group_a, using enumerate to get both the index (starting from 1) and the element (string). For each element, it appends its index to the corresponding list in the positions dictionary.\n",
    "5. The second loop iterates over each element in group_b. It checks if the element exists in the positions dictionary:\n",
    "If it does, it prints the indices where that element appears in group_a.If it does not exist, it prints -1."
   ]
  },
  {
   "cell_type": "code",
   "execution_count": null,
   "id": "42a898c4",
   "metadata": {},
   "outputs": [],
   "source": [
    "from collections import defaultdict\n",
    "\n",
    "n, m = map(int, input().split())\n",
    "group_a = list(input().strip() for _ in range(n))\n",
    "\n",
    "group_b = list(input().strip() for _ in range(m))\n",
    "\n",
    "positions = defaultdict(list)\n",
    "\n",
    "for index, element in enumerate(group_a, 1):\n",
    "    positions[element].append(index)\n",
    "\n",
    "for element in group_b:\n",
    "    if element in positions:\n",
    "        print(\" \".join(map(str, positions[element])))\n",
    "    else:\n",
    "        print(-1)\n"
   ]
  },
  {
   "cell_type": "markdown",
   "id": "af1bdd6f",
   "metadata": {},
   "source": [
    "- Piling Up!"
   ]
  },
  {
   "cell_type": "code",
   "execution_count": null,
   "id": "9864b13b",
   "metadata": {},
   "outputs": [],
   "source": [
    "from collections import deque\n",
    "test_cases = int(input())\n",
    "for i in range(test_cases):\n",
    "    size = int(input())\n",
    "    cubes = list(map(int, input().split()))\n",
    "    d = deque(cubes)\n",
    "    if d[0] >= d[-1]:\n",
    "        last_cube = d.popleft()\n",
    "    else:\n",
    "        last_cube = d.pop()\n",
    "    possible = True\n",
    "    while d:\n",
    "        if d[0] >= d[-1]:\n",
    "            current_cube = d.popleft()\n",
    "        else:\n",
    "            current_cube = d.pop()\n",
    "        if current_cube > last_cube:\n",
    "            possible = False\n",
    "            break\n",
    "        \n",
    "        last_cube = current_cube\n",
    "    print(\"Yes\" if possible else \"No\")\n",
    "\n",
    "    \n"
   ]
  },
  {
   "cell_type": "markdown",
   "id": "dbc8f4f4",
   "metadata": {},
   "source": [
    "- Word Order"
   ]
  },
  {
   "cell_type": "code",
   "execution_count": null,
   "id": "f15edf7e",
   "metadata": {},
   "outputs": [],
   "source": [
    "from collections import Counter\n",
    "intero = int(input())\n",
    "\n",
    "tutte_le_parole = []\n",
    "\n",
    "for i in range(intero):\n",
    "    parole = list(map(str, input().split()))\n",
    "    tutte_le_parole.extend(parole)\n",
    "\n",
    "contatore = Counter(tutte_le_parole)\n",
    "print(len(contatore))\n",
    "lista = [v for k, v in contatore.items()]\n",
    "print(\" \".join(map(str, lista)))\n",
    "\n"
   ]
  },
  {
   "cell_type": "markdown",
   "id": "c73f3922",
   "metadata": {},
   "source": [
    "- collections.Counter()"
   ]
  },
  {
   "cell_type": "code",
   "execution_count": null,
   "id": "1c2ea838",
   "metadata": {},
   "outputs": [],
   "source": [
    "\n",
    "from collections import Counter\n",
    "x = int(input())\n",
    "shoesize = Counter(map(int, input().split()))\n",
    "costumers= int(input())\n",
    "total = 0\n",
    "for i in range(costumers):\n",
    "    size, price = map(int, input().split())\n",
    "    if shoesize[size]:\n",
    "        total += price\n",
    "        shoesize[size] -= 1\n",
    "print(total)\n"
   ]
  },
  {
   "cell_type": "markdown",
   "id": "801afc7b",
   "metadata": {},
   "source": [
    "- Collections.deque()"
   ]
  },
  {
   "cell_type": "code",
   "execution_count": null,
   "id": "d364233d",
   "metadata": {},
   "outputs": [],
   "source": [
    "from collections import deque \n",
    "mydeq= deque()\n",
    "integer= int(input())\n",
    "for i in range(integer):\n",
    "    c= list(input().split())\n",
    "    if c [0]== \"append\":\n",
    "        mydeq.append(c[1])\n",
    "    elif c [0]== \"appendleft\":\n",
    "        mydeq.appendleft(c[1])\n",
    "    elif c [0]== \"pop\":\n",
    "        mydeq.pop()\n",
    "    elif c [0]== \"popleft\":\n",
    "        mydeq.popleft()\n",
    "for t in mydeq:\n",
    "    print(t, end= \" \")\n",
    "\n"
   ]
  },
  {
   "cell_type": "markdown",
   "id": "fe4a34b0",
   "metadata": {},
   "source": [
    "- Collections.OrderedDict"
   ]
  },
  {
   "cell_type": "code",
   "execution_count": null,
   "id": "e97b4d3c",
   "metadata": {},
   "outputs": [],
   "source": [
    "from collections import OrderedDict\n",
    "d = OrderedDict()\n",
    "for i in range(int(input())):\n",
    "    item = input().rpartition(' ')\n",
    "    if not item[0] in d:\n",
    "        d[item[0]] = int(item[2])\n",
    "    else:\n",
    "        d[item[0]] += int(item[2])\n",
    "for i in d.items():\n",
    "    print(i[0], i[1])\n"
   ]
  },
  {
   "cell_type": "markdown",
   "id": "44a55a9d",
   "metadata": {},
   "source": [
    "## DATE AND TIME"
   ]
  },
  {
   "cell_type": "markdown",
   "id": "79ee4cd9",
   "metadata": {},
   "source": [
    "- Calendar Module"
   ]
  },
  {
   "cell_type": "code",
   "execution_count": null,
   "id": "686c5c04",
   "metadata": {},
   "outputs": [],
   "source": [
    "import calendar\n",
    "days_of_week = {\n",
    "    0: \"MONDAY\",\n",
    "    1: \"TUESDAY\",\n",
    "    2: \"WEDNESDAY\",\n",
    "    3: \"THURSDAY\",\n",
    "    4: \"FRIDAY\",\n",
    "    5: \"SATURDAY\",\n",
    "    6: \"SUNDAY\"\n",
    "}\n",
    "\n",
    "month, day, year = map(int, input().split())\n",
    "\n",
    "weekday = calendar.weekday(year, month, day)\n",
    "print(days_of_week[weekday])\n"
   ]
  },
  {
   "cell_type": "markdown",
   "id": "d6bc2d29",
   "metadata": {},
   "source": [
    "- Time Delta"
   ]
  },
  {
   "cell_type": "code",
   "execution_count": null,
   "id": "5210123a",
   "metadata": {},
   "outputs": [],
   "source": [
    "#!/bin/python3\n",
    "import os\n",
    "from datetime import datetime\n",
    "def time_delta(t1, t2):\n",
    "    format_str = \"%a %d %b %Y %H:%M:%S %z\"\n",
    "    dt1 = datetime.strptime(t1, format_str)\n",
    "    dt2 = datetime.strptime(t2, format_str)\n",
    "    delta = int(abs((dt1 - dt2).total_seconds()))\n",
    "    return delta\n",
    "if __name__ == '__main__':\n",
    "    fptr = open(os.environ['OUTPUT_PATH'], 'w')\n",
    "    t = int(input())\n",
    "    for t_itr in range(t):\n",
    "        t1 = input()\n",
    "        t2 = input()\n",
    "        delta = time_delta(t1, t2)\n",
    "        fptr.write(str(delta) + '\\n')  # Convert delta to string\n",
    "    fptr.close()\n"
   ]
  },
  {
   "cell_type": "markdown",
   "id": "d34a1d62",
   "metadata": {},
   "source": [
    "## PYTHON FUNCTIONALS:  Map and Lambda Function"
   ]
  },
  {
   "cell_type": "code",
   "execution_count": null,
   "id": "4db6bfa7",
   "metadata": {},
   "outputs": [],
   "source": [
    "cube = lambda x: x**3\n",
    "def fibonacci(n):\n",
    "    result = []\n",
    "    a, b = 0, 1\n",
    "    for _ in range(n):\n",
    "        result.append(a)\n",
    "        a, b = b, a + b\n",
    "    return result\n",
    "\n"
   ]
  },
  {
   "cell_type": "markdown",
   "id": "55bec594",
   "metadata": {},
   "source": [
    "## ERROR AND EXCEPTIONS:  Exceptions"
   ]
  },
  {
   "cell_type": "code",
   "execution_count": null,
   "id": "a89a33cc",
   "metadata": {},
   "outputs": [],
   "source": [
    "n = int(input())\n",
    "for i in range(n):\n",
    "    input_values = input().split()\n",
    "    \n",
    "    try:\n",
    "        a = int(input_values[0])\n",
    "        b = int(input_values[1])\n",
    "        \n",
    "        result = a // b\n",
    "        print(result)\n",
    "    except ZeroDivisionError:\n",
    "        print(\"Error Code: integer division or modulo by zero\")\n",
    "    except ValueError as e:\n",
    "        print(\"Error Code:\", e)\n"
   ]
  },
  {
   "cell_type": "markdown",
   "id": "cc8b2b5a",
   "metadata": {},
   "source": [
    "## BUILT-INS"
   ]
  },
  {
   "cell_type": "markdown",
   "id": "1f26a88f",
   "metadata": {},
   "source": [
    "- Zipped!"
   ]
  },
  {
   "cell_type": "code",
   "execution_count": null,
   "id": "d55b96d7",
   "metadata": {},
   "outputs": [],
   "source": [
    "num_students, num_subjects = map(int, input().split())\n",
    "all_marks = []\n",
    "for _ in range(num_subjects):\n",
    "    marks = list(map(float, input().split()))\n",
    "    all_marks.append(marks)\n",
    "subject_marks = list(zip(*all_marks))\n",
    "averages = [sum(subject) / num_subjects for subject in subject_marks]\n",
    "for i in averages:\n",
    "    print(i)\n"
   ]
  },
  {
   "cell_type": "markdown",
   "id": "1558e598",
   "metadata": {},
   "source": [
    "- ginortS"
   ]
  },
  {
   "cell_type": "code",
   "execution_count": null,
   "id": "6dadca17",
   "metadata": {},
   "outputs": [],
   "source": [
    "input1 = list(input())\n",
    "minuscola = sorted([char for char in input1 if char.islower()])\n",
    "maiscula =sorted([char for char in input1 if char.isupper()])\n",
    "digit= sorted([char for char in input1 if char.isdigit()])\n",
    "even= sorted([char for char in digit if int(char) %2==0])\n",
    "odd = sorted([char for char in digit if int(char) %2==1])\n",
    "print(\"\".join(minuscola + maiscula + odd+ even ))\n",
    "\n"
   ]
  },
  {
   "cell_type": "markdown",
   "id": "59d429a1",
   "metadata": {},
   "source": [
    "- Input()"
   ]
  },
  {
   "cell_type": "code",
   "execution_count": null,
   "id": "bff1d664",
   "metadata": {},
   "outputs": [],
   "source": [
    "x, k = map(int, input().split())\n",
    "operazione= input()\n",
    "funzione = print(eval(operazione)== k)\n"
   ]
  },
  {
   "cell_type": "markdown",
   "id": "2996251f",
   "metadata": {},
   "source": [
    "## CLOSURES AND DECORATORS"
   ]
  },
  {
   "cell_type": "markdown",
   "id": "cbba2535",
   "metadata": {},
   "source": [
    "- Standardize Mobile Number Using Decorators"
   ]
  },
  {
   "cell_type": "code",
   "execution_count": null,
   "id": "b20532ef",
   "metadata": {},
   "outputs": [],
   "source": [
    "def wrapper(f):\n",
    "    def fun(l):\n",
    "        formatted_numbers = []\n",
    "        for number in l:\n",
    "            \n",
    "            if number.startswith('91') and len(number) == 12:\n",
    "                number = number[2:]\n",
    "            elif number.startswith('0') and len(number) == 11:\n",
    "                number = number[1:]\n",
    "            if not number.startswith('+91'):\n",
    "                formatted_number = f\"+91 {number[:5]} {number[5:]}\"\n",
    "            else:\n",
    "                formatted_number = f\"{number[:3]} {number[3:8]} {number[8:]}\"\n",
    "            formatted_numbers.append(formatted_number)\n",
    "            \n",
    "        \n",
    "        f(formatted_numbers)\n",
    "    \n",
    "    return fun\n"
   ]
  },
  {
   "cell_type": "markdown",
   "id": "29cb545f",
   "metadata": {},
   "source": [
    "- Decorators 2 - Name Directory"
   ]
  },
  {
   "cell_type": "code",
   "execution_count": null,
   "id": "a435e06d",
   "metadata": {},
   "outputs": [],
   "source": [
    "\n",
    "def person_lister(f):\n",
    "    def inner(people):\n",
    "        people.sort(key=lambda x: int(x[2]))\n",
    "        return list(map(lambda person: f(person), people))\n",
    "   \n",
    "    return inner\n"
   ]
  },
  {
   "cell_type": "markdown",
   "id": "93b581be",
   "metadata": {},
   "source": [
    "## NUMPY"
   ]
  },
  {
   "cell_type": "markdown",
   "id": "7ad1343d",
   "metadata": {},
   "source": [
    "- Transpose and Flatten"
   ]
  },
  {
   "cell_type": "code",
   "execution_count": null,
   "id": "da48f6ea",
   "metadata": {},
   "outputs": [],
   "source": [
    "import numpy\n",
    "input1 = input().split()\n",
    "N = int(input1[0])\n",
    "M = int(input1[1])\n",
    "listaar = []\n",
    "for i in range(N):\n",
    "    values = list(map(int, input().split()))\n",
    "    if len(values) != M:\n",
    "        break\n",
    "    listaar.append(values)\n",
    "lista1 = numpy.array(listaar)\n",
    "print(numpy.transpose(lista1))\n",
    "print(lista1.flatten())\n"
   ]
  },
  {
   "cell_type": "markdown",
   "id": "534cffa4",
   "metadata": {},
   "source": [
    "- Arrays"
   ]
  },
  {
   "cell_type": "code",
   "execution_count": null,
   "id": "f6f59ff5",
   "metadata": {},
   "outputs": [],
   "source": [
    "\n",
    "def arrays(arr):\n",
    "    return numpy.array(arr, dtype= float) [::-1]\n"
   ]
  },
  {
   "cell_type": "markdown",
   "id": "b3973599",
   "metadata": {},
   "source": [
    "- Concatenate"
   ]
  },
  {
   "cell_type": "code",
   "execution_count": null,
   "id": "7c06c55f",
   "metadata": {},
   "outputs": [],
   "source": [
    "\n",
    "import numpy as np\n",
    "input1 = input().split()\n",
    "N = int(input1[0])\n",
    "M = int(input1[1])\n",
    "P = int(input1[2])  \n",
    "arrays = []\n",
    "for i in range(N):\n",
    "    values = list(map(int, input().split()))\n",
    "    arrays.append(values)\n",
    "for i in range(M):\n",
    "    values2 = list(map(int, input().split()))\n",
    "    arrays.append(values2)\n",
    "array_1 = np.array(arrays[:N])\n",
    "array_2 = np.array(arrays[N:])\n",
    "print(np.concatenate((array_1, array_2)))\n"
   ]
  },
  {
   "cell_type": "markdown",
   "id": "3fa0bd88",
   "metadata": {},
   "source": [
    "- Min and Max"
   ]
  },
  {
   "cell_type": "code",
   "execution_count": null,
   "id": "704a7f82",
   "metadata": {},
   "outputs": [],
   "source": [
    "# Enter your code here. Read input from STDIN. Print output to STDOUT\n",
    "import numpy as np\n",
    "x, y = map(int, input().split())\n",
    "data = [list(map(int, input().split())) for i in range(x)]\n",
    "my_array = np.array(data)\n",
    "min_by_row = np.min(my_array, axis=1)\n",
    "maxi = np.max(min_by_row)\n",
    "print(maxi)\n"
   ]
  },
  {
   "cell_type": "markdown",
   "id": "97fede4f",
   "metadata": {},
   "source": [
    "- Linear Algebra"
   ]
  },
  {
   "cell_type": "code",
   "execution_count": null,
   "id": "5d4fde23",
   "metadata": {},
   "outputs": [],
   "source": [
    "import numpy\n",
    "inputn = int(input())\n",
    "matrix = []\n",
    "for i in range(inputn):\n",
    "    row = list(map(float, input().split()))\n",
    "    matrix.append(row)\n",
    "matrix = numpy.array(matrix, dtype=float)\n",
    "print(round(numpy.linalg.det(matrix), 11))\n"
   ]
  },
  {
   "cell_type": "markdown",
   "id": "04efa16e",
   "metadata": {},
   "source": [
    "- Zeros and Ones"
   ]
  },
  {
   "cell_type": "code",
   "execution_count": null,
   "id": "41416b3b",
   "metadata": {},
   "outputs": [],
   "source": [
    "\n",
    "import numpy as np\n",
    "\n",
    "dimensions = list(map(int, input().split()))\n",
    "array_zero = np.zeros(dimensions, dtype=int)\n",
    "array_uno = np.ones(dimensions, dtype=int)\n",
    "print(array_zero)\n",
    "print(array_uno)\n"
   ]
  },
  {
   "cell_type": "markdown",
   "id": "ea3825d8",
   "metadata": {},
   "source": [
    "- Shape and Reshape"
   ]
  },
  {
   "cell_type": "code",
   "execution_count": null,
   "id": "02c03537",
   "metadata": {},
   "outputs": [],
   "source": [
    "import numpy\n",
    "inputt = list(map(int, input().split()))\n",
    "change_array = numpy.array(inputt)\n",
    "change_array.shape = (3, 3)\n",
    "print(change_array)\n"
   ]
  },
  {
   "cell_type": "markdown",
   "id": "bbf6399e",
   "metadata": {},
   "source": [
    "- Polynomials"
   ]
  },
  {
   "cell_type": "code",
   "execution_count": null,
   "id": "f34fa118",
   "metadata": {},
   "outputs": [],
   "source": [
    "import numpy\n",
    "def evaluate(coefficient, x):\n",
    "    return numpy.polyval(coefficient, x)\n",
    "    \n",
    "coefficient = list(map(float, input().split()))\n",
    "x = int(input())\n",
    "result = evaluate(coefficient, x)\n",
    "print(result)\n",
    "\n"
   ]
  },
  {
   "cell_type": "markdown",
   "id": "cb5b659f",
   "metadata": {},
   "source": [
    "- Mean, Var, and Std"
   ]
  },
  {
   "cell_type": "code",
   "execution_count": null,
   "id": "1331f276",
   "metadata": {},
   "outputs": [],
   "source": [
    "import numpy as np\n",
    "n, m = map(int, input().split())\n",
    "matrix = np.array([list(map(int, input().split())) for _ in range(n)])\n",
    "print(f\"{np.mean(matrix, axis=1)}\\n\"\n",
    "      f\"{np.var(matrix, axis=0)}\\n\"\n",
    "      f\"{round(np.std(matrix, axis=None), 11)}\")\n"
   ]
  },
  {
   "cell_type": "markdown",
   "id": "a1f9570f",
   "metadata": {},
   "source": [
    "- Inner and Outer"
   ]
  },
  {
   "cell_type": "code",
   "execution_count": null,
   "id": "1799580d",
   "metadata": {},
   "outputs": [],
   "source": [
    "\n",
    "import numpy as np\n",
    "A, B = np.array([list(map(int, input().split())) for i in range(2)])\n",
    "inner= np.inner(A, B)\n",
    "outer = np.outer(A, B)\n",
    "print(inner)\n",
    "print(outer)\n"
   ]
  },
  {
   "cell_type": "markdown",
   "id": "8f359b53",
   "metadata": {},
   "source": [
    "- Dot and Cross"
   ]
  },
  {
   "cell_type": "code",
   "execution_count": null,
   "id": "4678d7cf",
   "metadata": {},
   "outputs": [],
   "source": [
    "\n",
    "import numpy as np\n",
    "N = int(input())\n",
    "A = np.array([list(map(int, input().split())) for i in range(N)])\n",
    "B = np.array([list(map(int, input().split())) for i in range(N)])\n",
    "print(np.dot(A, B))     \n",
    "\n",
    "\n"
   ]
  },
  {
   "cell_type": "markdown",
   "id": "aafa2926",
   "metadata": {},
   "source": [
    "- Sum and Prod"
   ]
  },
  {
   "cell_type": "code",
   "execution_count": null,
   "id": "84a37a88",
   "metadata": {},
   "outputs": [],
   "source": [
    "import numpy as np\n",
    "n, m = map(int, input().split())\n",
    "matrix = np.array([list(map(int, input().split())) for _ in range(n)])\n",
    "my_sum = np.sum(matrix, axis = 0)\n",
    "print(np.prod(my_sum))\n"
   ]
  },
  {
   "cell_type": "markdown",
   "id": "7c2d4c99",
   "metadata": {},
   "source": [
    "- Array Mathematics"
   ]
  },
  {
   "cell_type": "code",
   "execution_count": null,
   "id": "55e966c1",
   "metadata": {},
   "outputs": [],
   "source": [
    "import numpy as np\n",
    "N, M = map(int, input().split())\n",
    "A = np.array([list(map(int, input().split())) for i in range(N)])\n",
    "B = np.array([list(map(int, input().split())) for i in range(N)])\n",
    "addition = np.add(A, B)\n",
    "subtraction = np.subtract(A, B)\n",
    "multiplication = np.multiply(A, B)\n",
    "integer_division = np.floor_divide(A, B)\n",
    "modulus = np.mod(A, B)\n",
    "power = np.power(A, B)\n",
    "print(addition)\n",
    "print(subtraction)\n",
    "print(multiplication)\n",
    "print(integer_division)\n",
    "print(modulus)\n",
    "print(power)\n"
   ]
  },
  {
   "cell_type": "markdown",
   "id": "94a79f96",
   "metadata": {},
   "source": [
    "## XML"
   ]
  },
  {
   "cell_type": "markdown",
   "id": "a4c8b348",
   "metadata": {},
   "source": [
    "- XML 1 - Find the Score"
   ]
  },
  {
   "cell_type": "code",
   "execution_count": null,
   "id": "4db2869a",
   "metadata": {},
   "outputs": [],
   "source": [
    "\n",
    "    \n",
    "def get_attr_number(root):\n",
    "    total_attributes = 0\n",
    "    for node in root.iter():\n",
    "        total_attributes += len(node.attrib)\n",
    "    return total_attributes\n"
   ]
  },
  {
   "cell_type": "markdown",
   "id": "0aef5aa8",
   "metadata": {},
   "source": [
    "- XML2 - Find the Maximum Depth"
   ]
  },
  {
   "cell_type": "markdown",
   "id": "2420a121",
   "metadata": {},
   "source": [
    "The function initializes the current element as the root of the tree and sets the depth level to zero. It increments the depth and iterates over the node's children. If a child has children, the function continues recursively; otherwise, it updates the maximum depth if the current level exceeds it. After exploring a child, the function returns to the parent to check for remaining children, continuing to increase the depth as needed."
   ]
  },
  {
   "cell_type": "code",
   "execution_count": null,
   "id": "b15849b0",
   "metadata": {},
   "outputs": [],
   "source": [
    "\n",
    "maxdepth = 0\n",
    "def depth(elem, level):\n",
    "    global maxdepth\n",
    "    level += 1\n",
    "    for child in elem:\n",
    "        depth(child, level)\n",
    "    if level > maxdepth:\n",
    "        maxdepth = level\n",
    "        \n",
    "    \n"
   ]
  },
  {
   "cell_type": "markdown",
   "id": "8619ef21",
   "metadata": {},
   "source": [
    "## REGEX AND PARSING CHALLENGES"
   ]
  },
  {
   "cell_type": "markdown",
   "id": "4d423061",
   "metadata": {},
   "source": [
    "- Detect Floating Point Number"
   ]
  },
  {
   "cell_type": "code",
   "execution_count": null,
   "id": "1b458795",
   "metadata": {},
   "outputs": [],
   "source": [
    "import re\n",
    "N = int(input())\n",
    "strings = list(map(str, (input() for _ in range(N))))\n",
    "for text in strings:\n",
    "    \n",
    "    if re.fullmatch(r'^[+-]?\\d*\\.\\d+$', text):\n",
    "        print(True)\n",
    "    else:\n",
    "        print(False)\n"
   ]
  },
  {
   "cell_type": "markdown",
   "id": "c9940158",
   "metadata": {},
   "source": [
    "- Re.split()"
   ]
  },
  {
   "cell_type": "code",
   "execution_count": null,
   "id": "e04b50c3",
   "metadata": {},
   "outputs": [],
   "source": [
    "regex_pattern = r'[,.]'\n"
   ]
  },
  {
   "cell_type": "markdown",
   "id": "3bc020d4",
   "metadata": {},
   "source": [
    "- Re.findall() & Re.finditer()"
   ]
  },
  {
   "cell_type": "code",
   "execution_count": null,
   "id": "8c23b2d4",
   "metadata": {},
   "outputs": [],
   "source": [
    "import re\n",
    "S = input()\n",
    "vocali = re.findall(r'(?<=[QWRTYPSDFGHJKLZXCVBNMqwrtypsdfghjklzxcvbnm])([AEIOUaeiou]{2,})(?=[QWRTYPSDFGHJKLZXCVBNMqwrtypsdfghjklzxcvbnm])', S)\n",
    "if vocali:\n",
    "    print(*vocali, sep='\\n')\n",
    "else:\n",
    "    print(-1)\n"
   ]
  },
  {
   "cell_type": "markdown",
   "id": "e6694186",
   "metadata": {},
   "source": [
    "- Re.start() & Re.end()"
   ]
  },
  {
   "cell_type": "code",
   "execution_count": null,
   "id": "005f5abe",
   "metadata": {},
   "outputs": [],
   "source": [
    "import re\n",
    "main_string = input().strip()\n",
    "substring = input().strip()\n",
    "lista1 = []\n",
    "pattern = re.escape(substring)\n",
    "i = 0\n",
    "while i < len(main_string):\n",
    "    match = re.search(pattern, main_string[i:])\n",
    "    \n",
    "    if match:\n",
    "        actual_start = i + match.start()\n",
    "        actual_end = actual_start + len(substring) - 1\n",
    "        lista1.append((actual_start, actual_end))\n",
    "        i = actual_start + 1\n",
    "    else:\n",
    "        break\n",
    "if not lista1:\n",
    "    print((-1, -1))\n",
    "else:\n",
    "    for index_pair in lista1:\n",
    "        print(index_pair)\n",
    "\n"
   ]
  },
  {
   "cell_type": "markdown",
   "id": "489404bc",
   "metadata": {},
   "source": [
    "- Group(), Groups() & Groupdict()"
   ]
  },
  {
   "cell_type": "code",
   "execution_count": null,
   "id": "a236c4fe",
   "metadata": {},
   "outputs": [],
   "source": [
    "import re\n",
    "pattern = r\"([a-zA-Z0-9])\\1\"\n",
    "string = input()\n",
    "search = re.search(pattern, string)\n",
    "if search:\n",
    "    print(*search.groups(0))\n",
    "else:\n",
    "    print(-1)\n"
   ]
  },
  {
   "cell_type": "markdown",
   "id": "10f0e887",
   "metadata": {},
   "source": [
    "- Validating Roman Numerals"
   ]
  },
  {
   "cell_type": "code",
   "execution_count": null,
   "id": "1608f69f",
   "metadata": {},
   "outputs": [],
   "source": [
    "regex_pattern = r'M{0,3}(CM|CD|D?C{0,3})(XC|XL|L?X{0,3})(IX|IV|V?I{0,3})$'\n"
   ]
  },
  {
   "cell_type": "markdown",
   "id": "aa707972",
   "metadata": {},
   "source": [
    "- Validating UID"
   ]
  },
  {
   "cell_type": "code",
   "execution_count": null,
   "id": "dc1aff70",
   "metadata": {},
   "outputs": [],
   "source": [
    "import re\n",
    "reg = r'^(?=(?:.*[A-Z]){2})(?=(?:.*\\d){3})[A-Za-z0-9]{10}$'\n",
    "def unique_char(uid):\n",
    "    return len(uid) == len(set(uid))\n",
    "N = int(input())\n",
    "for k in range(N):\n",
    "    uid = input().strip()\n",
    "    if re.match(reg, uid) and unique_char(uid):\n",
    "        print(\"Valid\")\n",
    "    else:\n",
    "        print(\"Invalid\")\n"
   ]
  },
  {
   "cell_type": "markdown",
   "id": "de1811f4",
   "metadata": {},
   "source": [
    "- Hex Color Code"
   ]
  },
  {
   "cell_type": "code",
   "execution_count": null,
   "id": "0bfe8bbc",
   "metadata": {},
   "outputs": [],
   "source": [
    "import re\n",
    "regex = r\"^#([A-Fa-f0-9]{3}|[A-Fa-f0-9]{6})$\"\n",
    "\n",
    "N = int(input())\n",
    "for i in range(N):\n",
    "    inp = input()\n",
    "    matches = re.findall(regex, inp)\n",
    "    if matches:\n",
    "        print(\"\\n\".join(matches))\n"
   ]
  },
  {
   "cell_type": "markdown",
   "id": "5e2aa1e3",
   "metadata": {},
   "source": [
    "- Validating and Parsing Email Adress"
   ]
  },
  {
   "cell_type": "code",
   "execution_count": null,
   "id": "9a535ee4",
   "metadata": {},
   "outputs": [],
   "source": [
    "import re\n",
    "regx = r\"^[a-zA-Z0-9][a-zA-Z0-9._+-]*@[a-zA-Z]+\\.[a-zA-Z]{1,3}$\"\n",
    "\n",
    "inp = int(input())\n",
    "for _ in range(inp):\n",
    "    line = input()\n",
    "    email = line.split(\"<\")\n",
    "    email = email[1].strip(\">\")\n",
    "    if re.match(regx, email):\n",
    "        print(line)"
   ]
  },
  {
   "cell_type": "markdown",
   "id": "0ca2c728",
   "metadata": {},
   "source": [
    "- Validating Phone Numbers"
   ]
  },
  {
   "cell_type": "code",
   "execution_count": null,
   "id": "6ed6cc44",
   "metadata": {},
   "outputs": [],
   "source": [
    "\n",
    "import re\n",
    "regex = r\"^[7-9][0-9]{9}$\"\n",
    "N = int(input())\n",
    "for i in range(N):\n",
    "    inp = input()\n",
    "    matches = re.search(regex, inp)\n",
    "    if matches:\n",
    "        print(\"YES\")\n",
    "    else:\n",
    "        print(\"NO\")"
   ]
  },
  {
   "cell_type": "markdown",
   "id": "dad20e46",
   "metadata": {},
   "source": [
    "- Regex Substitution"
   ]
  },
  {
   "cell_type": "code",
   "execution_count": null,
   "id": "95f90751",
   "metadata": {},
   "outputs": [],
   "source": [
    "import re\n",
    "# Sample input string\n",
    "lista =[]\n",
    "n = int(input())\n",
    "\n",
    "for i in range(n):\n",
    "    input_string = input()\n",
    "    output_string = re.sub(r'(?<= )&&(?= )', 'and', input_string)\n",
    "    output_string = re.sub(r'(?<= )\\|\\|(?= )', 'or', output_string)\n",
    "    lista.append(output_string)\n",
    "for line in lista:\n",
    "    print(line)"
   ]
  },
  {
   "cell_type": "markdown",
   "id": "9f9d29d8",
   "metadata": {},
   "source": [
    "- HTML Parser - Part 1"
   ]
  },
  {
   "cell_type": "code",
   "execution_count": null,
   "id": "0814879b",
   "metadata": {},
   "outputs": [],
   "source": [
    "\n",
    "n = int(input())  \n",
    "html_input = \"\".join(map(str.strip, (input() for i in range(n))))  \n",
    "\n",
    "from html.parser import HTMLParser  # Importing the HTMLParser class to parse HTML content.\n",
    "\n",
    "class MyHTMLParser(HTMLParser):  \n",
    "    def handle_starttag(self, tag, attrs):  # Method to handle start tags in the HTML.\n",
    "        print(\"Start :\", tag)  # Print the name of the start tag.\n",
    "        if attrs:  # Check if there are attributes associated with the tag:\n",
    "            for attr, value in attrs:  # Loop through each attribute and its value.\n",
    "                print(f\"-> {attr} > {value}\")  # Print each attribute and its value.\n",
    "\n",
    "    def handle_endtag(self, tag):  # Method to handle end tags in the HTML.\n",
    "        print(\"End   :\", tag)  # Print the name of the end tag.\n",
    "\n",
    "    def handle_startendtag(self, tag, attrs):  # Method to handle self-closing tags (empty tags).\n",
    "        print(\"Empty :\", tag)  # Print the name of the empty tag.\n",
    "        if attrs:  # Check if there are attributes associated with the empty tag:\n",
    "            for attr, value in attrs:  # Loop through each attribute and its value.\n",
    "                print(f\"-> {attr} > {value}\")  # Print each attribute and its value.\n",
    "\n",
    "parser = MyHTMLParser()  \n",
    "parser.feed(html_input)  # Feed the concatenated HTML string to the parser for processing"
   ]
  },
  {
   "cell_type": "markdown",
   "id": "d7c24225",
   "metadata": {},
   "source": [
    "- HTML Parser - Part 2"
   ]
  },
  {
   "cell_type": "code",
   "execution_count": null,
   "id": "05825b68",
   "metadata": {},
   "outputs": [],
   "source": [
    "\n",
    "from html.parser import HTMLParser  \n",
    "\n",
    "class MyHTMLParser(HTMLParser):  # Defining a custom parser class that inherits from HTMLParser.\n",
    "    def handle_comment(self, data):  # Method to handle comments in the HTML.\n",
    "        if '\\n' in data:  # Check if the comment contains a newline character.\n",
    "            print(\">>> Multi-line Comment\")  # Print indication of a multi-line comment.\n",
    "            print(data)  # Print the actual comment data.\n",
    "        else:  # If it's a single-line comment:\n",
    "            print(\">>> Single-line Comment\")  # Print indication of a single-line comment.\n",
    "            print(data)  # Print the actual comment data.\n",
    "\n",
    "    def handle_data(self, data):  # Method to handle text data in the HTML.\n",
    "        if data.strip():  # Check if the data is not just whitespace.\n",
    "            print(\">>> Data\")  # Print indication of text data.\n",
    "            print(data)  # Print the actual text data.\n",
    "\n",
    "html = \"\"  \n",
    "for i in range(int(input())):  \n",
    "    html += input().rstrip()  # Append each line of input to the html string, stripping trailing whitespace.\n",
    "    html += '\\n'  # Add a newline character after each line.\n",
    "    \n",
    "parser = MyHTMLParser()\n",
    "parser.feed(html)\n",
    "parser.close()"
   ]
  },
  {
   "cell_type": "markdown",
   "id": "4d355c8b",
   "metadata": {},
   "source": [
    "- Detect HTML Tags, Attributes and Attribute Values"
   ]
  },
  {
   "cell_type": "code",
   "execution_count": null,
   "id": "45f264e2",
   "metadata": {},
   "outputs": [],
   "source": [
    "from html.parser import HTMLParser\n",
    "\n",
    "n = int(input())\n",
    "html_input = \"\".join(map(str.strip, (input() for i in range(n))))\n",
    "from html.parser import HTMLParser\n",
    "class MyHTMLParser(HTMLParser):\n",
    "    def handle_starttag(self, tag, attrs): #This method is called whenever a start tag (like <tag>) is encountered in the HTML.\n",
    "         if not attrs:\n",
    "             print( tag)\n",
    "         if attrs:\n",
    "             print(tag)\n",
    "             for attr, value in attrs:\n",
    "                print(f\"-> {attr} > {value}\")\n",
    "'''If there are no attributes, it simply prints the tag name.If there are attributes\n",
    "it prints the tag name followed by each attribute and its corresponding value in the format -> attribute > value'''                                                                                                                                   \n",
    " \n",
    "parser = MyHTMLParser()\n",
    "parser.feed(html_input)\n",
    "\n",
    "\n",
    "\n"
   ]
  },
  {
   "cell_type": "markdown",
   "id": "ddd57b9f",
   "metadata": {},
   "source": [
    "- Validating Postal Codes"
   ]
  },
  {
   "cell_type": "code",
   "execution_count": null,
   "id": "7f0d2766",
   "metadata": {},
   "outputs": [],
   "source": [
    "regex_integer_in_range = r\"^[1-9][0-9]{5}$\" #the first digit must be between 1 and 9, the other 5 between 0 and 9 \n",
    "regex_alternating_repetitive_digit_pair =r\"(?=(\\d)(?=\\d\\1))\" #this capture any digit and checks that the next character is a digit followed by the same character\n"
   ]
  },
  {
   "cell_type": "markdown",
   "id": "8c98fd72",
   "metadata": {},
   "source": [
    "- Validating Credit Cards numbers"
   ]
  },
  {
   "cell_type": "markdown",
   "id": "6b898fb2",
   "metadata": {},
   "source": [
    "the regex validate the credit card numbers that do not contain more than 3 identical consecutive digits, matches a 16-digit number starting with 4, 5, or 6. or matches a number starting with 4, 5, or 6 followed by three groups of four digits, each optionally preceded by a space or hyphen."
   ]
  },
  {
   "cell_type": "code",
   "execution_count": null,
   "id": "71930b87",
   "metadata": {},
   "outputs": [],
   "source": [
    "import re\n",
    "pattern = r\"^(?!.*(\\d)(?:-?\\1){3})([456][0-9]{15}|[456][0-9]{3}(?:[- ]?[0-9]{4}){3})$\"\n",
    "\n",
    "N = int(input())\n",
    "for i in range(N):\n",
    "    lista = input()\n",
    "    if re.match(pattern, lista): #the goal is to check if the input matches the criteria defined before\n",
    "        print(\"Valid\") # if it matches\n",
    "    else: \n",
    "        print(\"Invalid\") #if doesn't match"
   ]
  },
  {
   "cell_type": "markdown",
   "id": "e4de0c42",
   "metadata": {},
   "source": [
    "- Matrix Scripts"
   ]
  },
  {
   "cell_type": "markdown",
   "id": "f31e75d3",
   "metadata": {},
   "source": [
    "The goal is to decodify a matrix script by reading the characters by column and then formatting "
   ]
  },
  {
   "cell_type": "code",
   "execution_count": null,
   "id": "9efdb94d",
   "metadata": {},
   "outputs": [],
   "source": [
    "import re\n",
    "\n",
    "first_multiple_input = input().rstrip().split()\n",
    "n = int(first_multiple_input[0])\n",
    "m = int(first_multiple_input[1])\n",
    "\n",
    "matrix = [input() for _ in range(n)]\n",
    "\n",
    "cripted_mex = \"\" #this will contain the final result\n",
    "for col in range(m):\n",
    "    for row in range(n):\n",
    "        cripted_mex += matrix[row][col] #the idea is to iterate for each column then the nested loop iterate over each row of that column to access\n",
    "                                        # character in that specific column\n",
    "\n",
    "formatted_output = re.sub(r'(?<=\\w)([^\\w]+)(?=\\w)', ' ', cripted_mex) #Use lookbehind and lookahead to check for alphanumeric characters before and after non-alphanumeric characters\n",
    "                                                                      #and replace them with a space.\n",
    "print(formatted_output)"
   ]
  },
  {
   "cell_type": "markdown",
   "id": "4667732e",
   "metadata": {},
   "source": [
    "# PROBLEM 2"
   ]
  },
  {
   "cell_type": "markdown",
   "id": "4774a69c",
   "metadata": {},
   "source": [
    "## Birthday Cake Candles"
   ]
  },
  {
   "cell_type": "code",
   "execution_count": null,
   "id": "0e90afcd",
   "metadata": {},
   "outputs": [],
   "source": [
    "#!/bin/python3\n",
    "import math\n",
    "import os\n",
    "import random\n",
    "import re\n",
    "import sys\n",
    "\n",
    "\n",
    "def birthdayCakeCandles(candles):\n",
    "    for i in range(len(candles)):\n",
    "        largest= max(candles) #The maximum height is found\n",
    "        return candles.count(largest) #count how many canldes have that height\n",
    "       \n",
    "if __name__ == '__main__':\n",
    "    fptr = open(os.environ['OUTPUT_PATH'], 'w')\n",
    "    candles_count = int(input().strip())\n",
    "    candles = list(map(int, input().rstrip().split()))\n",
    "    result = birthdayCakeCandles(candles)\n",
    "    fptr.write(str(result) + '\\n')\n",
    "    fptr.close()\n"
   ]
  },
  {
   "cell_type": "markdown",
   "id": "78204925",
   "metadata": {},
   "source": [
    "## Insertion Sort - Part 1"
   ]
  },
  {
   "cell_type": "code",
   "execution_count": null,
   "id": "ec8941f2",
   "metadata": {},
   "outputs": [],
   "source": [
    "\n",
    "import math\n",
    "import os\n",
    "import random\n",
    "import re\n",
    "import sys\n",
    "\n",
    "\n",
    "        \n",
    "def insertionSort1(n, arr):\n",
    "    value = arr[-1] #we store the last element of the array in order to\n",
    "    for i in range(len(arr)-2, -1, -1): #we want to iterate from the seocnd-last elemnt (-2) to 0 (-1 is escluded) by decreasing i by 1\n",
    "        if arr[i]> value: #if the current element is greater than value, value should be inserted befor the current element \n",
    "            arr[i+1] = arr[i]\n",
    "            print(\" \".join(map(str, arr)))\n",
    "        if arr[i] < value: #if the element is not greater, the correct position for value is find.\n",
    "            arr[i+1] = value\n",
    "            print(\" \".join(map(str, arr)))\n",
    "\n",
    "\n",
    "    else:\n",
    "        \n",
    "        arr[0] = value\n",
    "        print(' '.join(map(str, arr))) #if the cycle ends without a position for the value it means that is the smallest number and is inserted at beginning\n",
    "\n",
    "           \n",
    "\n",
    "\n",
    "if __name__ == '__main__':\n",
    "    n = int(input().strip())\n",
    "    arr = list(map(int, input().rstrip().split()))\n",
    "    insertionSort1(n, arr)\n"
   ]
  },
  {
   "cell_type": "markdown",
   "id": "3fb3f72a",
   "metadata": {},
   "source": [
    "## Insertion Sort - Part 2"
   ]
  },
  {
   "cell_type": "code",
   "execution_count": null,
   "id": "19c31a42",
   "metadata": {},
   "outputs": [],
   "source": [
    "#!/bin/python3\n",
    "import math\n",
    "import os\n",
    "import random\n",
    "import re\n",
    "import sys\n",
    "def insertionSort2(n, arr):\n",
    "    for value in range(1, n): #we start from the second element since the element at index 0 is already sorted\n",
    "        tmp = arr[value] #current value to be inserted\n",
    "        pos = value #keep track of the index in which the temporary value will be inserted\n",
    "        \n",
    "        while pos > 0 and arr[pos - 1] > tmp: #the code must work while the position is > 0 and the preceding element is greater than the current value to be inserted\n",
    "            arr[pos] = arr[pos - 1] #if the condition hold the current element is substituted with preceding element that will be shifted to the right\n",
    "            pos -= 1 # allow to check the other preceding positions until the right position for the current value is found\n",
    "        \n",
    "        arr[pos] = tmp\n",
    "        print(*arr) # the element of the array for each iteration are umpacked\n",
    "\n",
    "if __name__ == '__main__':\n",
    "    n = int(input().strip())\n",
    "    arr = list(map(int, input().rstrip().split()))\n",
    "    insertionSort2(n, arr)\n"
   ]
  },
  {
   "cell_type": "markdown",
   "id": "80478321",
   "metadata": {},
   "source": [
    "## Viral Advertising"
   ]
  },
  {
   "cell_type": "markdown",
   "id": "986c06aa",
   "metadata": {},
   "source": [
    "THE GOAL : Keep track of the total number of likes received at the end of the 'n' day "
   ]
  },
  {
   "cell_type": "code",
   "execution_count": null,
   "id": "1f8b7bd2",
   "metadata": {},
   "outputs": [],
   "source": [
    "#!/bin/python3\n",
    "import math\n",
    "import os\n",
    "import random\n",
    "import re\n",
    "import sys\n",
    "\n",
    "\n",
    "def viralAdvertising(n):\n",
    "    shared= 5 #initial number of people that received the advertisement on day 1\n",
    "    comulative = 0 #initialize the comulative likes at 0\n",
    "    for i in range(1, n+1): # we start the range from day 1 to day n, n+1 means that day n is included\n",
    "        likes = shared// 2 #half of people that receive the advertisement liked it\n",
    "        comulative += likes # we add likes to the total comulative likes\n",
    "        shared = likes * 3 #each person who liked shares with 3 friends.\n",
    "    return (comulative) #after all iterations are completed the comulative likes number is returned\n",
    "        \n",
    "if __name__ == '__main__':\n",
    "    fptr = open(os.environ['OUTPUT_PATH'], 'w')\n",
    "    n = int(input().strip())\n",
    "    result = viralAdvertising(n)\n",
    "    fptr.write(str(result) + '\\n')\n",
    "    fptr.close()\n"
   ]
  },
  {
   "cell_type": "markdown",
   "id": "0338ea58",
   "metadata": {},
   "source": [
    "## Number Line Jumps"
   ]
  },
  {
   "cell_type": "markdown",
   "id": "328aae3a",
   "metadata": {},
   "source": [
    "As it is possible to see in the image below, after \\( n \\) jumps the position of Kangaroo1 is: \n",
    "\n",
    "\\\n",
    "Position1 = x1 + v1(n) \n",
    "\n",
    "\n",
    "At the third jump, Kangaroo 1 is at position: \n",
    "\n",
    "\\\n",
    "0 + 3(3) = 9\n",
    "\n",
    "For the kangaroos to meet P1 = P2 --->  \n",
    "$$\n",
    "n = \\frac{x_2 - x_1}{v_1 - v_2}\n",
    "$$\n",
    "\n",
    "\n",
    "\n",
    "\n"
   ]
  },
  {
   "cell_type": "markdown",
   "id": "3861ad3d",
   "metadata": {},
   "source": [
    "![Descrizione dell'immagine](https://s3.amazonaws.com/hr-assets/0/1516005283-e74e76ff0c-kangaroo.png)\n"
   ]
  },
  {
   "cell_type": "code",
   "execution_count": null,
   "id": "c15b4657",
   "metadata": {},
   "outputs": [],
   "source": [
    "#!/bin/python3\n",
    "import math\n",
    "import os\n",
    "import random\n",
    "import re\n",
    "import sys\n",
    "#\n",
    "# Complete the 'kangaroo' function below.\n",
    "#\n",
    "# The function is expected to return a STRING.\n",
    "# The function accepts following parameters:\n",
    "#  1. INTEGER x1\n",
    "#  2. INTEGER v1\n",
    "#  3. INTEGER x2\n",
    "#  4. INTEGER v2\n",
    "\n",
    "\n",
    "def kangaroo(x1, v1, x2, v2): # x1= is the position of the 1^ kangoroo, v1= meters per jump ; the same apply for x2,v2\n",
    "    \n",
    "    if x1 == x2 and v1 == v2: # if they start at the same position they only meet if they jump at the same rate\n",
    "        return \"YES\"\n",
    "    if v1 == v2 and x1 != x2: # if they jump at the same rate they can only meey if they start at the same position\n",
    "        return \"NO\"\n",
    "    if x1 > x2 and v1 > v2:\n",
    "        return \"NO\"\n",
    "    if x2 > x1 and v2 > v1:\n",
    "        return \"NO\"\n",
    "    if (x2 - x1) % (v1 - v2) == 0: #this comparison is the most complex, ensures that there is no reminder when deviding the difference in starting positions\n",
    "        #by the difference in velocities, if it holds the kangaroos will land on the same position\n",
    "\n",
    "        return \"YES\"\n",
    "    else:\n",
    "        return \"NO\"\n",
    "\n",
    "\n",
    "\n",
    "if __name__ == '__main__':\n",
    "    fptr = open(os.environ['OUTPUT_PATH'], 'w')\n",
    "    first_multiple_input = input().rstrip().split()\n",
    "    x1 = int(first_multiple_input[0])\n",
    "    v1 = int(first_multiple_input[1])\n",
    "    x2 = int(first_multiple_input[2])\n",
    "    v2 = int(first_multiple_input[3])\n",
    "    result = kangaroo(x1, v1, x2, v2)\n",
    "    fptr.write(result + '\\n')\n",
    "    fptr.close()\n"
   ]
  },
  {
   "cell_type": "markdown",
   "id": "34860316",
   "metadata": {},
   "source": [
    "## Recursive Digit Sum"
   ]
  },
  {
   "cell_type": "markdown",
   "id": "27d28213",
   "metadata": {},
   "source": [
    "In this problem, given a parameter k, we need to concatenate the string n a total of k times and calculate the superdigit. The idea is:  first sum the digits of n, multiply this sum by k. Then recursively superdigit of the result is computed until a single-digit number is reached\n",
    "\n"
   ]
  },
  {
   "cell_type": "code",
   "execution_count": null,
   "id": "50fa5a59",
   "metadata": {},
   "outputs": [],
   "source": [
    "\n",
    "import math\n",
    "import os\n",
    "import random\n",
    "import re\n",
    "import sys\n",
    "def superDigit(n, k):\n",
    "    initial_sum = sum(map(int, n)) #we convert each character of the n string to integer and sum all characters\n",
    "\n",
    "    \n",
    "    total_sum = initial_sum * k \n",
    "    while total_sum >= 10: # this is necessary because when the 'total_sum' becomes a single digit we can stop and return that value as a single digit\n",
    "        total_sum = initial_sum = sum(map(int, str(total_sum)))\n",
    "\n",
    "    return total_sum\n",
    "\n",
    "if __name__ == '__main__':\n",
    "    fptr = open(os.environ['OUTPUT_PATH'], 'w')\n",
    "    first_multiple_input = input().rstrip().split()\n",
    "    n = first_multiple_input[0]\n",
    "    k = int(first_multiple_input[1])\n",
    "    result = superDigit(n, k)\n",
    "    fptr.write(str(result) + '\\n')\n",
    "    fptr.close()\n"
   ]
  }
 ],
 "metadata": {
  "kernelspec": {
   "display_name": "Python 3",
   "language": "python",
   "name": "python3"
  },
  "language_info": {
   "codemirror_mode": {
    "name": "ipython",
    "version": 3
   },
   "file_extension": ".py",
   "mimetype": "text/x-python",
   "name": "python",
   "nbconvert_exporter": "python",
   "pygments_lexer": "ipython3",
   "version": "3.7.12"
  }
 },
 "nbformat": 4,
 "nbformat_minor": 5
}
